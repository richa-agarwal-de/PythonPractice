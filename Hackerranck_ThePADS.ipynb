{
  "nbformat": 4,
  "nbformat_minor": 0,
  "metadata": {
    "colab": {
      "provenance": [],
      "toc_visible": true,
      "include_colab_link": true
    },
    "kernelspec": {
      "name": "python3",
      "display_name": "Python 3"
    },
    "language_info": {
      "name": "python"
    }
  },
  "cells": [
    {
      "cell_type": "markdown",
      "metadata": {
        "id": "view-in-github",
        "colab_type": "text"
      },
      "source": [
        "<a href=\"https://colab.research.google.com/github/richa-agarwal-de/PythonPractice/blob/main/Hackerranck_ThePADS.ipynb\" target=\"_parent\"><img src=\"https://colab.research.google.com/assets/colab-badge.svg\" alt=\"Open In Colab\"/></a>"
      ]
    },
    {
      "cell_type": "markdown",
      "source": [
        "Generate the following two result sets:\n",
        "\n",
        "Query an alphabetically ordered list of all names in OCCUPATIONS, immediately followed by the first letter of each profession as a parenthetical (i.e.: enclosed in parentheses). For example: AnActorName(A), ADoctorName(D), AProfessorName(P), and ASingerName(S).\n",
        "Query the number of ocurrences of each occupation in OCCUPATIONS. Sort the occurrences in ascending order, and output them in the following format:\n",
        "\n",
        "There are a total of [occupation_count] [occupation]s.\n",
        "where [occupation_count] is the number of occurrences of an occupation in OCCUPATIONS and [occupation] is the lowercase occupation name. If more than one Occupation has the same [occupation_count], they should be ordered alphabetically.\n",
        "\n",
        "Note: There will be at least two entries in the table for each type of occupation.\n",
        "\n",
        "Input Format\n",
        "\n",
        "The OCCUPATIONS table is described as follows:  Occupation will only contain one of the following values: Doctor, Professor, Singer or Actor.\n",
        "\n",
        "Sample Input\n",
        "\n",
        "An OCCUPATIONS table that contains the following records:\n",
        "\n",
        "\n",
        "\n",
        "Sample Output\n",
        "\n",
        "Ashely(P)\n",
        "Christeen(P)\n",
        "Jane(A)\n",
        "Jenny(D)\n",
        "Julia(A)\n",
        "Ketty(P)\n",
        "Maria(A)\n",
        "Meera(S)\n",
        "Priya(S)\n",
        "Samantha(D)\n",
        "There are a total of 2 doctors.\n",
        "There are a total of 2 singers.\n",
        "There are a total of 3 actors.\n",
        "There are a total of 3 professors.\n",
        "Explanation\n",
        "\n",
        "The results of the first query are formatted to the problem description's specifications.\n",
        "The results of the second query are ascendingly ordered first by number of names corresponding to each profession (), and then alphabetically by profession (, and ).\n"
      ],
      "metadata": {
        "id": "kxgQJ6FxtWEQ"
      }
    },
    {
      "cell_type": "code",
      "metadata": {
        "colab": {
          "base_uri": "https://localhost:8080/"
        },
        "id": "8bb1b673",
        "outputId": "4e09fcbb-ef6c-42c1-d1b4-852943344f90"
      },
      "source": [
        "%pip install ipython-sql"
      ],
      "execution_count": 14,
      "outputs": [
        {
          "output_type": "stream",
          "name": "stdout",
          "text": [
            "Requirement already satisfied: ipython-sql in /usr/local/lib/python3.11/dist-packages (0.5.0)\n",
            "Requirement already satisfied: prettytable in /usr/local/lib/python3.11/dist-packages (from ipython-sql) (3.16.0)\n",
            "Requirement already satisfied: ipython in /usr/local/lib/python3.11/dist-packages (from ipython-sql) (7.34.0)\n",
            "Requirement already satisfied: sqlalchemy>=2.0 in /usr/local/lib/python3.11/dist-packages (from ipython-sql) (2.0.41)\n",
            "Requirement already satisfied: sqlparse in /usr/local/lib/python3.11/dist-packages (from ipython-sql) (0.5.3)\n",
            "Requirement already satisfied: six in /usr/local/lib/python3.11/dist-packages (from ipython-sql) (1.17.0)\n",
            "Requirement already satisfied: ipython-genutils in /usr/local/lib/python3.11/dist-packages (from ipython-sql) (0.2.0)\n",
            "Requirement already satisfied: greenlet>=1 in /usr/local/lib/python3.11/dist-packages (from sqlalchemy>=2.0->ipython-sql) (3.2.3)\n",
            "Requirement already satisfied: typing-extensions>=4.6.0 in /usr/local/lib/python3.11/dist-packages (from sqlalchemy>=2.0->ipython-sql) (4.14.1)\n",
            "Requirement already satisfied: setuptools>=18.5 in /usr/local/lib/python3.11/dist-packages (from ipython->ipython-sql) (75.2.0)\n",
            "Requirement already satisfied: jedi>=0.16 in /usr/local/lib/python3.11/dist-packages (from ipython->ipython-sql) (0.19.2)\n",
            "Requirement already satisfied: decorator in /usr/local/lib/python3.11/dist-packages (from ipython->ipython-sql) (4.4.2)\n",
            "Requirement already satisfied: pickleshare in /usr/local/lib/python3.11/dist-packages (from ipython->ipython-sql) (0.7.5)\n",
            "Requirement already satisfied: traitlets>=4.2 in /usr/local/lib/python3.11/dist-packages (from ipython->ipython-sql) (5.7.1)\n",
            "Requirement already satisfied: prompt-toolkit!=3.0.0,!=3.0.1,<3.1.0,>=2.0.0 in /usr/local/lib/python3.11/dist-packages (from ipython->ipython-sql) (3.0.51)\n",
            "Requirement already satisfied: pygments in /usr/local/lib/python3.11/dist-packages (from ipython->ipython-sql) (2.19.2)\n",
            "Requirement already satisfied: backcall in /usr/local/lib/python3.11/dist-packages (from ipython->ipython-sql) (0.2.0)\n",
            "Requirement already satisfied: matplotlib-inline in /usr/local/lib/python3.11/dist-packages (from ipython->ipython-sql) (0.1.7)\n",
            "Requirement already satisfied: pexpect>4.3 in /usr/local/lib/python3.11/dist-packages (from ipython->ipython-sql) (4.9.0)\n",
            "Requirement already satisfied: wcwidth in /usr/local/lib/python3.11/dist-packages (from prettytable->ipython-sql) (0.2.13)\n",
            "Requirement already satisfied: parso<0.9.0,>=0.8.4 in /usr/local/lib/python3.11/dist-packages (from jedi>=0.16->ipython->ipython-sql) (0.8.4)\n",
            "Requirement already satisfied: ptyprocess>=0.5 in /usr/local/lib/python3.11/dist-packages (from pexpect>4.3->ipython->ipython-sql) (0.7.0)\n"
          ]
        }
      ]
    },
    {
      "cell_type": "code",
      "metadata": {
        "id": "3a6c6670"
      },
      "source": [
        "%reload_ext sql"
      ],
      "execution_count": 23,
      "outputs": []
    },
    {
      "cell_type": "code",
      "metadata": {
        "id": "67c66675"
      },
      "source": [
        "%sql sqlite:///:memory:"
      ],
      "execution_count": 24,
      "outputs": []
    },
    {
      "cell_type": "code",
      "metadata": {
        "colab": {
          "base_uri": "https://localhost:8080/"
        },
        "id": "1c984f5a",
        "outputId": "831b339f-fdca-4f01-8ff1-1a995ecf4201"
      },
      "source": [
        "%%sql\n",
        "DROP TABLE OCCUPATIONS;\n",
        "CREATE TABLE OCCUPATIONS (\n",
        "    Name VARCHAR(50),\n",
        "    Occupation VARCHAR(50)\n",
        ");\n",
        "\n",
        "INSERT INTO OCCUPATIONS (Name, Occupation) VALUES\n",
        "('Ashely', 'Professor'),\n",
        "('Christeen', 'Professor'),\n",
        "('Jane', 'Actor'),\n",
        "('Jenny', 'Doctor'),\n",
        "('Julia', 'Actor'),\n",
        "('Ketty', 'Professor'),\n",
        "('Maria', 'Actor'),\n",
        "('Meera', 'Singer'),\n",
        "('Priya', 'Singer'),\n",
        "('Samantha', 'Doctor');"
      ],
      "execution_count": 28,
      "outputs": [
        {
          "output_type": "stream",
          "name": "stdout",
          "text": [
            " * sqlite:///:memory:\n",
            "Done.\n",
            "Done.\n",
            "10 rows affected.\n"
          ]
        },
        {
          "output_type": "execute_result",
          "data": {
            "text/plain": [
              "[]"
            ]
          },
          "metadata": {},
          "execution_count": 28
        }
      ]
    },
    {
      "cell_type": "code",
      "source": [
        "%%sql -r\n",
        "\n",
        "--Query 1\n",
        "select name||'('||substr(occupation,1,1)||')'\n",
        "from occupations\n",
        "order by name;"
      ],
      "metadata": {
        "colab": {
          "base_uri": "https://localhost:8080/"
        },
        "id": "B6Lh43Z5xDA5",
        "outputId": "9667d1f9-1984-4d85-e84d-958ef3223da2"
      },
      "execution_count": 29,
      "outputs": [
        {
          "output_type": "stream",
          "name": "stderr",
          "text": [
            "UsageError: unrecognized arguments: -r\n"
          ]
        }
      ]
    },
    {
      "cell_type": "code",
      "source": [
        "%%sql -r\n",
        "--Query 2\n",
        "select 'There are a total of '||a.cnt||' '||a.occupation||'s.'\n",
        "from\n",
        "  (select lower(occupation) occupation, count(1) cnt\n",
        "   from occupations\n",
        "   group by lower(occupation)\n",
        "  ) a\n",
        "order by a.cnt,a.occupation;"
      ],
      "metadata": {
        "colab": {
          "base_uri": "https://localhost:8080/"
        },
        "id": "xLyNspywxf7F",
        "outputId": "d7177141-4887-4615-fe17-2f2f157857b6"
      },
      "execution_count": 31,
      "outputs": [
        {
          "output_type": "stream",
          "name": "stderr",
          "text": [
            "UsageError: unrecognized arguments: -r\n"
          ]
        }
      ]
    },
    {
      "cell_type": "code",
      "source": [
        "%%sql -a\n",
        "SELECT * FROM occupations;"
      ],
      "metadata": {
        "colab": {
          "base_uri": "https://localhost:8080/"
        },
        "id": "vWlBhwfcyaMF",
        "outputId": "bd7e4c88-566a-4761-b328-7a6a017a33f5"
      },
      "execution_count": 32,
      "outputs": [
        {
          "output_type": "stream",
          "name": "stderr",
          "text": [
            "UsageError: argument -a/--connection_arguments: expected one argument\n"
          ]
        }
      ]
    },
    {
      "cell_type": "code",
      "source": [],
      "metadata": {
        "id": "e21XUMHEyhwX"
      },
      "execution_count": null,
      "outputs": []
    },
    {
      "cell_type": "code",
      "metadata": {
        "colab": {
          "base_uri": "https://localhost:8080/"
        },
        "id": "d663c716",
        "outputId": "52861fc1-ab9c-4ecf-e405-356054e3354b"
      },
      "source": [
        "%%sql -a\n",
        "SELECT * FROM occupations;"
      ],
      "execution_count": 33,
      "outputs": [
        {
          "output_type": "stream",
          "name": "stderr",
          "text": [
            "UsageError: argument -a/--connection_arguments: expected one argument\n"
          ]
        }
      ]
    }
  ]
}